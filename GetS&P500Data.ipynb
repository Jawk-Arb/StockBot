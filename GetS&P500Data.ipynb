{
 "cells": [
  {
   "cell_type": "code",
   "execution_count": null,
   "metadata": {},
   "outputs": [],
   "source": [
    "import yfinance as yf\n",
    "import pandas as pd\n",
    "\n",
    "# List of S&P 500 tickers\n",
    "from yfinance import Ticker\n",
    "from bs4 import BeautifulSoup\n",
    "import requests"
   ]
  },
  {
   "cell_type": "code",
   "execution_count": null,
   "metadata": {},
   "outputs": [],
   "source": [
    "# Fetch the S&P 500 tickers from Wikipedia\n",
    "def get_sp500_tickers():\n",
    "    url = \"https://en.wikipedia.org/wiki/List_of_S%26P_500_companies\"\n",
    "    response = requests.get(url)\n",
    "    soup = BeautifulSoup(response.text, \"html.parser\")\n",
    "    table = soup.find(\"table\", {\"id\": \"constituents\"})\n",
    "    tickers = []\n",
    "    for row in table.findAll(\"tr\")[1:]:\n",
    "        ticker = row.findAll(\"td\")[0].text.strip()\n",
    "        tickers.append(ticker)\n",
    "    return tickers"
   ]
  },
  {
   "cell_type": "code",
   "execution_count": null,
   "metadata": {},
   "outputs": [],
   "source": [
    "# Function to fetch financial data for a single ticker\n",
    "def fetch_financials(ticker):\n",
    "    try:\n",
    "        stock = yf.Ticker(ticker)\n",
    "        info = stock.info\n",
    "        financials = {\n",
    "            \"Ticker\": ticker,\n",
    "            \"Company\": info.get(\"shortName\"),\n",
    "            \"Market Cap\": info.get(\"marketCap\"),\n",
    "            \"P/E Ratio\": info.get(\"trailingPE\"),\n",
    "            \"EPS\": info.get(\"trailingEps\"),\n",
    "            \"Price\": info.get(\"currentPrice\"),\n",
    "            \"52 Week High\": info.get(\"fiftyTwoWeekHigh\"),\n",
    "            \"52 Week Low\": info.get(\"fiftyTwoWeekLow\"),\n",
    "        }\n",
    "        return financials\n",
    "    except Exception as e:\n",
    "        print(f\"Error fetching data for {ticker}: {e}\")\n",
    "        return None"
   ]
  },
  {
   "cell_type": "code",
   "execution_count": null,
   "metadata": {},
   "outputs": [],
   "source": [
    "# Main function to collect data for all S&P 500 tickers\n",
    "tickers = get_sp500_tickers()\n",
    "all_financials = []\n",
    "\n",
    "for ticker in tickers:\n",
    "    print(f\"Fetching data for {ticker}...\")\n",
    "    financials = fetch_financials(ticker)\n",
    "    if financials:\n",
    "        all_financials.append(financials)\n",
    "\n",
    "# Convert to DataFrame for analysis and export\n",
    "df = pd.DataFrame(all_financials)"
   ]
  },
  {
   "cell_type": "code",
   "execution_count": 2,
   "metadata": {},
   "outputs": [
    {
     "ename": "NameError",
     "evalue": "name 'df' is not defined",
     "output_type": "error",
     "traceback": [
      "\u001b[0;31m---------------------------------------------------------------------------\u001b[0m",
      "\u001b[0;31mNameError\u001b[0m                                 Traceback (most recent call last)",
      "Cell \u001b[0;32mIn[2], line 1\u001b[0m\n\u001b[0;32m----> 1\u001b[0m \u001b[43mdf\u001b[49m\n",
      "\u001b[0;31mNameError\u001b[0m: name 'df' is not defined"
     ]
    }
   ],
   "source": [
    "df"
   ]
  },
  {
   "cell_type": "code",
   "execution_count": null,
   "metadata": {},
   "outputs": [],
   "source": []
  }
 ],
 "metadata": {
  "kernelspec": {
   "display_name": "Python 3",
   "language": "python",
   "name": "python3"
  },
  "language_info": {
   "codemirror_mode": {
    "name": "ipython",
    "version": 3
   },
   "file_extension": ".py",
   "mimetype": "text/x-python",
   "name": "python",
   "nbconvert_exporter": "python",
   "pygments_lexer": "ipython3",
   "version": "3.9.21"
  },
  "orig_nbformat": 4
 },
 "nbformat": 4,
 "nbformat_minor": 2
}
